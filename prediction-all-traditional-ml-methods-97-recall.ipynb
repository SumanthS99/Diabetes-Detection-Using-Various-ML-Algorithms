{
 "cells": [
  {
   "cell_type": "markdown",
   "id": "fadc9e19",
   "metadata": {
    "papermill": {
     "duration": 0.009221,
     "end_time": "2024-08-30T14:30:52.665268",
     "exception": false,
     "start_time": "2024-08-30T14:30:52.656047",
     "status": "completed"
    },
    "tags": []
   },
   "source": [
    "This notebook addresses the task of predicting diabetes using a large dataset of 100,000 people. The data includes various details like age, gender, and medical history. One challenge is that only 8.5% of the people have diabetes, so the dataset is imbalanced, hence choosing the correct metric for evaluation is key here. Let's dive in!!"
   ]
  },
  {
   "cell_type": "code",
   "execution_count": 1,
   "id": "9c4eb8d3",
   "metadata": {
    "execution": {
     "iopub.execute_input": "2024-08-30T14:30:52.684115Z",
     "iopub.status.busy": "2024-08-30T14:30:52.683654Z",
     "iopub.status.idle": "2024-08-30T14:30:55.470995Z",
     "shell.execute_reply": "2024-08-30T14:30:55.469744Z"
    },
    "id": "t50X4KDH3lZq",
    "papermill": {
     "duration": 2.800081,
     "end_time": "2024-08-30T14:30:55.474017",
     "exception": false,
     "start_time": "2024-08-30T14:30:52.673936",
     "status": "completed"
    },
    "tags": []
   },
   "outputs": [],
   "source": [
    "# Importing necessary libraries\n",
    "import pandas as pd\n",
    "import numpy as np\n",
    "import seaborn as sns\n",
    "import matplotlib.pyplot as plt\n",
    "from sklearn.linear_model import LogisticRegression\n",
    "from sklearn.svm import SVC\n",
    "from sklearn.metrics import accuracy_score, classification_report, confusion_matrix\n",
    "from sklearn.neighbors import KNeighborsClassifier\n",
    "from sklearn.naive_bayes import GaussianNB\n",
    "from sklearn.tree import DecisionTreeClassifier\n",
    "from sklearn.ensemble import RandomForestClassifier"
   ]
  },
  {
   "cell_type": "code",
   "execution_count": 2,
   "id": "7d5e8e82",
   "metadata": {
    "execution": {
     "iopub.execute_input": "2024-08-30T14:30:55.493284Z",
     "iopub.status.busy": "2024-08-30T14:30:55.492702Z",
     "iopub.status.idle": "2024-08-30T14:30:55.820270Z",
     "shell.execute_reply": "2024-08-30T14:30:55.819105Z"
    },
    "id": "t_Rqjpu488X8",
    "outputId": "7b70eaf5-c343-4b1f-a047-6abecf57d5f2",
    "papermill": {
     "duration": 0.340186,
     "end_time": "2024-08-30T14:30:55.822894",
     "exception": false,
     "start_time": "2024-08-30T14:30:55.482708",
     "status": "completed"
    },
    "tags": []
   },
   "outputs": [
    {
     "data": {
      "text/html": [
       "<div>\n",
       "<style scoped>\n",
       "    .dataframe tbody tr th:only-of-type {\n",
       "        vertical-align: middle;\n",
       "    }\n",
       "\n",
       "    .dataframe tbody tr th {\n",
       "        vertical-align: top;\n",
       "    }\n",
       "\n",
       "    .dataframe thead th {\n",
       "        text-align: right;\n",
       "    }\n",
       "</style>\n",
       "<table border=\"1\" class=\"dataframe\">\n",
       "  <thead>\n",
       "    <tr style=\"text-align: right;\">\n",
       "      <th></th>\n",
       "      <th>year</th>\n",
       "      <th>gender</th>\n",
       "      <th>age</th>\n",
       "      <th>location</th>\n",
       "      <th>race:AfricanAmerican</th>\n",
       "      <th>race:Asian</th>\n",
       "      <th>race:Caucasian</th>\n",
       "      <th>race:Hispanic</th>\n",
       "      <th>race:Other</th>\n",
       "      <th>hypertension</th>\n",
       "      <th>heart_disease</th>\n",
       "      <th>smoking_history</th>\n",
       "      <th>bmi</th>\n",
       "      <th>hbA1c_level</th>\n",
       "      <th>blood_glucose_level</th>\n",
       "      <th>diabetes</th>\n",
       "    </tr>\n",
       "  </thead>\n",
       "  <tbody>\n",
       "    <tr>\n",
       "      <th>0</th>\n",
       "      <td>2020</td>\n",
       "      <td>Female</td>\n",
       "      <td>32.0</td>\n",
       "      <td>Alabama</td>\n",
       "      <td>0</td>\n",
       "      <td>0</td>\n",
       "      <td>0</td>\n",
       "      <td>0</td>\n",
       "      <td>1</td>\n",
       "      <td>0</td>\n",
       "      <td>0</td>\n",
       "      <td>never</td>\n",
       "      <td>27.32</td>\n",
       "      <td>5.0</td>\n",
       "      <td>100</td>\n",
       "      <td>0</td>\n",
       "    </tr>\n",
       "    <tr>\n",
       "      <th>1</th>\n",
       "      <td>2015</td>\n",
       "      <td>Female</td>\n",
       "      <td>29.0</td>\n",
       "      <td>Alabama</td>\n",
       "      <td>0</td>\n",
       "      <td>1</td>\n",
       "      <td>0</td>\n",
       "      <td>0</td>\n",
       "      <td>0</td>\n",
       "      <td>0</td>\n",
       "      <td>0</td>\n",
       "      <td>never</td>\n",
       "      <td>19.95</td>\n",
       "      <td>5.0</td>\n",
       "      <td>90</td>\n",
       "      <td>0</td>\n",
       "    </tr>\n",
       "    <tr>\n",
       "      <th>2</th>\n",
       "      <td>2015</td>\n",
       "      <td>Male</td>\n",
       "      <td>18.0</td>\n",
       "      <td>Alabama</td>\n",
       "      <td>0</td>\n",
       "      <td>0</td>\n",
       "      <td>0</td>\n",
       "      <td>0</td>\n",
       "      <td>1</td>\n",
       "      <td>0</td>\n",
       "      <td>0</td>\n",
       "      <td>never</td>\n",
       "      <td>23.76</td>\n",
       "      <td>4.8</td>\n",
       "      <td>160</td>\n",
       "      <td>0</td>\n",
       "    </tr>\n",
       "    <tr>\n",
       "      <th>3</th>\n",
       "      <td>2015</td>\n",
       "      <td>Male</td>\n",
       "      <td>41.0</td>\n",
       "      <td>Alabama</td>\n",
       "      <td>0</td>\n",
       "      <td>0</td>\n",
       "      <td>1</td>\n",
       "      <td>0</td>\n",
       "      <td>0</td>\n",
       "      <td>0</td>\n",
       "      <td>0</td>\n",
       "      <td>never</td>\n",
       "      <td>27.32</td>\n",
       "      <td>4.0</td>\n",
       "      <td>159</td>\n",
       "      <td>0</td>\n",
       "    </tr>\n",
       "    <tr>\n",
       "      <th>4</th>\n",
       "      <td>2016</td>\n",
       "      <td>Female</td>\n",
       "      <td>52.0</td>\n",
       "      <td>Alabama</td>\n",
       "      <td>1</td>\n",
       "      <td>0</td>\n",
       "      <td>0</td>\n",
       "      <td>0</td>\n",
       "      <td>0</td>\n",
       "      <td>0</td>\n",
       "      <td>0</td>\n",
       "      <td>never</td>\n",
       "      <td>23.75</td>\n",
       "      <td>6.5</td>\n",
       "      <td>90</td>\n",
       "      <td>0</td>\n",
       "    </tr>\n",
       "  </tbody>\n",
       "</table>\n",
       "</div>"
      ],
      "text/plain": [
       "   year  gender   age location  race:AfricanAmerican  race:Asian  \\\n",
       "0  2020  Female  32.0  Alabama                     0           0   \n",
       "1  2015  Female  29.0  Alabama                     0           1   \n",
       "2  2015    Male  18.0  Alabama                     0           0   \n",
       "3  2015    Male  41.0  Alabama                     0           0   \n",
       "4  2016  Female  52.0  Alabama                     1           0   \n",
       "\n",
       "   race:Caucasian  race:Hispanic  race:Other  hypertension  heart_disease  \\\n",
       "0               0              0           1             0              0   \n",
       "1               0              0           0             0              0   \n",
       "2               0              0           1             0              0   \n",
       "3               1              0           0             0              0   \n",
       "4               0              0           0             0              0   \n",
       "\n",
       "  smoking_history    bmi  hbA1c_level  blood_glucose_level  diabetes  \n",
       "0           never  27.32          5.0                  100         0  \n",
       "1           never  19.95          5.0                   90         0  \n",
       "2           never  23.76          4.8                  160         0  \n",
       "3           never  27.32          4.0                  159         0  \n",
       "4           never  23.75          6.5                   90         0  "
      ]
     },
     "execution_count": 2,
     "metadata": {},
     "output_type": "execute_result"
    }
   ],
   "source": [
    "# Reading the data\n",
    "df=pd.read_csv('/kaggle/input/100000-diabetes-clinical-dataset/diabetes_dataset.csv')\n",
    "df.head()"
   ]
  },
  {
   "cell_type": "code",
   "execution_count": 3,
   "id": "4fc0046c",
   "metadata": {
    "execution": {
     "iopub.execute_input": "2024-08-30T14:30:55.842694Z",
     "iopub.status.busy": "2024-08-30T14:30:55.842241Z",
     "iopub.status.idle": "2024-08-30T14:30:55.900291Z",
     "shell.execute_reply": "2024-08-30T14:30:55.899195Z"
    },
    "id": "Iyxk0P2y9Mlq",
    "outputId": "e75ef8c1-2ae5-4420-dd84-63b2929b695b",
    "papermill": {
     "duration": 0.071325,
     "end_time": "2024-08-30T14:30:55.903277",
     "exception": false,
     "start_time": "2024-08-30T14:30:55.831952",
     "status": "completed"
    },
    "tags": []
   },
   "outputs": [
    {
     "name": "stdout",
     "output_type": "stream",
     "text": [
      "<class 'pandas.core.frame.DataFrame'>\n",
      "RangeIndex: 100000 entries, 0 to 99999\n",
      "Data columns (total 16 columns):\n",
      " #   Column                Non-Null Count   Dtype  \n",
      "---  ------                --------------   -----  \n",
      " 0   year                  100000 non-null  int64  \n",
      " 1   gender                100000 non-null  object \n",
      " 2   age                   100000 non-null  float64\n",
      " 3   location              100000 non-null  object \n",
      " 4   race:AfricanAmerican  100000 non-null  int64  \n",
      " 5   race:Asian            100000 non-null  int64  \n",
      " 6   race:Caucasian        100000 non-null  int64  \n",
      " 7   race:Hispanic         100000 non-null  int64  \n",
      " 8   race:Other            100000 non-null  int64  \n",
      " 9   hypertension          100000 non-null  int64  \n",
      " 10  heart_disease         100000 non-null  int64  \n",
      " 11  smoking_history       100000 non-null  object \n",
      " 12  bmi                   100000 non-null  float64\n",
      " 13  hbA1c_level           100000 non-null  float64\n",
      " 14  blood_glucose_level   100000 non-null  int64  \n",
      " 15  diabetes              100000 non-null  int64  \n",
      "dtypes: float64(3), int64(10), object(3)\n",
      "memory usage: 12.2+ MB\n"
     ]
    }
   ],
   "source": [
    "# Understanding the data\n",
    "df.info()"
   ]
  },
  {
   "cell_type": "code",
   "execution_count": 4,
   "id": "44e8558c",
   "metadata": {
    "execution": {
     "iopub.execute_input": "2024-08-30T14:30:55.923507Z",
     "iopub.status.busy": "2024-08-30T14:30:55.923087Z",
     "iopub.status.idle": "2024-08-30T14:30:55.965738Z",
     "shell.execute_reply": "2024-08-30T14:30:55.964572Z"
    },
    "id": "wK4FhyBf9ZMY",
    "outputId": "b648913a-7df5-4455-f285-7eb44efedde5",
    "papermill": {
     "duration": 0.055652,
     "end_time": "2024-08-30T14:30:55.968349",
     "exception": false,
     "start_time": "2024-08-30T14:30:55.912697",
     "status": "completed"
    },
    "tags": []
   },
   "outputs": [
    {
     "data": {
      "text/plain": [
       "year                    0\n",
       "gender                  0\n",
       "age                     0\n",
       "location                0\n",
       "race:AfricanAmerican    0\n",
       "race:Asian              0\n",
       "race:Caucasian          0\n",
       "race:Hispanic           0\n",
       "race:Other              0\n",
       "hypertension            0\n",
       "heart_disease           0\n",
       "smoking_history         0\n",
       "bmi                     0\n",
       "hbA1c_level             0\n",
       "blood_glucose_level     0\n",
       "diabetes                0\n",
       "dtype: int64"
      ]
     },
     "execution_count": 4,
     "metadata": {},
     "output_type": "execute_result"
    }
   ],
   "source": [
    "# Checking for missing values\n",
    "df.isna().sum()"
   ]
  },
  {
   "cell_type": "markdown",
   "id": "8bffe802",
   "metadata": {
    "id": "BNTn7M_a9e8r",
    "papermill": {
     "duration": 0.008965,
     "end_time": "2024-08-30T14:30:55.986801",
     "exception": false,
     "start_time": "2024-08-30T14:30:55.977836",
     "status": "completed"
    },
    "tags": []
   },
   "source": [
    "No Missing Values found"
   ]
  },
  {
   "cell_type": "code",
   "execution_count": 5,
   "id": "abc9111f",
   "metadata": {
    "execution": {
     "iopub.execute_input": "2024-08-30T14:30:56.007479Z",
     "iopub.status.busy": "2024-08-30T14:30:56.007053Z",
     "iopub.status.idle": "2024-08-30T14:30:56.014523Z",
     "shell.execute_reply": "2024-08-30T14:30:56.013436Z"
    },
    "id": "AKUZ9V0I9hKp",
    "outputId": "a3c7a8be-a7ed-4abe-df10-a8bd34634e73",
    "papermill": {
     "duration": 0.020408,
     "end_time": "2024-08-30T14:30:56.016858",
     "exception": false,
     "start_time": "2024-08-30T14:30:55.996450",
     "status": "completed"
    },
    "tags": []
   },
   "outputs": [
    {
     "name": "stdout",
     "output_type": "stream",
     "text": [
      "['year', 'age', 'race:AfricanAmerican', 'race:Asian', 'race:Caucasian', 'race:Hispanic', 'race:Other', 'hypertension', 'heart_disease', 'bmi', 'hbA1c_level', 'blood_glucose_level', 'diabetes']\n",
      "['gender', 'location', 'smoking_history']\n"
     ]
    }
   ],
   "source": [
    "# Differentiating between object and non-object features\n",
    "num_columns = []\n",
    "non_num_columns = []\n",
    "for column in df.columns:\n",
    "  if df[column].dtypes == 'O':\n",
    "    non_num_columns.append(column)\n",
    "  else:\n",
    "    num_columns.append(column)\n",
    "print(num_columns)\n",
    "print(non_num_columns)\n",
    "\n"
   ]
  },
  {
   "cell_type": "code",
   "execution_count": 6,
   "id": "17c3c8dd",
   "metadata": {
    "execution": {
     "iopub.execute_input": "2024-08-30T14:30:56.037498Z",
     "iopub.status.busy": "2024-08-30T14:30:56.037071Z",
     "iopub.status.idle": "2024-08-30T14:30:56.101563Z",
     "shell.execute_reply": "2024-08-30T14:30:56.100413Z"
    },
    "id": "YiucJmSO_PWY",
    "outputId": "c3630a99-66b5-4d17-9c0a-eea0b92c719e",
    "papermill": {
     "duration": 0.078485,
     "end_time": "2024-08-30T14:30:56.104756",
     "exception": false,
     "start_time": "2024-08-30T14:30:56.026271",
     "status": "completed"
    },
    "tags": []
   },
   "outputs": [
    {
     "name": "stdout",
     "output_type": "stream",
     "text": [
      "gender\n",
      "Female    58552\n",
      "Male      41430\n",
      "Other        18\n",
      "Name: count, dtype: int64\n",
      "location\n",
      "Iowa                    2038\n",
      "Nebraska                2038\n",
      "Kentucky                2038\n",
      "Hawaii                  2038\n",
      "Florida                 2037\n",
      "Minnesota               2037\n",
      "New Jersey              2037\n",
      "Arkansas                2037\n",
      "Delaware                2036\n",
      "Kansas                  2036\n",
      "Michigan                2036\n",
      "Massachusetts           2036\n",
      "Maine                   2036\n",
      "District of Columbia    2036\n",
      "Louisiana               2036\n",
      "Georgia                 2036\n",
      "Oregon                  2036\n",
      "Pennsylvania            2036\n",
      "Alabama                 2036\n",
      "Illinois                2036\n",
      "Rhode Island            2035\n",
      "Colorado                2035\n",
      "Maryland                2035\n",
      "New York                2035\n",
      "Connecticut             2035\n",
      "Mississippi             2035\n",
      "Missouri                2035\n",
      "Alaska                  2035\n",
      "North Carolina          2035\n",
      "New Hampshire           2035\n",
      "North Dakota            2035\n",
      "South Dakota            2033\n",
      "Montana                 2033\n",
      "New Mexico              2033\n",
      "Idaho                   1988\n",
      "South Carolina          1987\n",
      "Indiana                 1987\n",
      "Ohio                    1986\n",
      "Oklahoma                1986\n",
      "Nevada                  1986\n",
      "Arizona                 1986\n",
      "California              1986\n",
      "Tennessee               1574\n",
      "United States           1401\n",
      "Washington              1363\n",
      "Utah                    1359\n",
      "Virginia                1350\n",
      "Vermont                 1338\n",
      "Texas                   1337\n",
      "Puerto Rico             1295\n",
      "Guam                    1204\n",
      "West Virginia           1132\n",
      "Virgin Islands           763\n",
      "Wisconsin                388\n",
      "Wyoming                  388\n",
      "Name: count, dtype: int64\n",
      "smoking_history\n",
      "No Info        35816\n",
      "never          35095\n",
      "former          9352\n",
      "current         9286\n",
      "not current     6447\n",
      "ever            4004\n",
      "Name: count, dtype: int64\n"
     ]
    }
   ],
   "source": [
    "# Looking through all the categories in categorical features\n",
    "for feature in df[non_num_columns].columns:\n",
    "  print(df[feature].value_counts(sort=True))"
   ]
  },
  {
   "cell_type": "markdown",
   "id": "7f4e833f",
   "metadata": {
    "id": "fMequs_O_z_X",
    "papermill": {
     "duration": 0.009658,
     "end_time": "2024-08-30T14:30:56.124573",
     "exception": false,
     "start_time": "2024-08-30T14:30:56.114915",
     "status": "completed"
    },
    "tags": []
   },
   "source": [
    "No wrong Categories found (Spelling mistakes, symbols inbetween, etc)."
   ]
  },
  {
   "cell_type": "code",
   "execution_count": 7,
   "id": "9f717499",
   "metadata": {
    "execution": {
     "iopub.execute_input": "2024-08-30T14:30:56.146073Z",
     "iopub.status.busy": "2024-08-30T14:30:56.145630Z",
     "iopub.status.idle": "2024-08-30T14:30:56.157771Z",
     "shell.execute_reply": "2024-08-30T14:30:56.156663Z"
    },
    "id": "tzg9pcl5_xOH",
    "outputId": "7e060f23-8edd-4cc2-ac8a-ed1a923b77ba",
    "papermill": {
     "duration": 0.025889,
     "end_time": "2024-08-30T14:30:56.160173",
     "exception": false,
     "start_time": "2024-08-30T14:30:56.134284",
     "status": "completed"
    },
    "tags": []
   },
   "outputs": [
    {
     "data": {
      "text/plain": [
       "diabetes\n",
       "0    0.915\n",
       "1    0.085\n",
       "Name: proportion, dtype: float64"
      ]
     },
     "execution_count": 7,
     "metadata": {},
     "output_type": "execute_result"
    }
   ],
   "source": [
    "# Checking the percentage of people having diabetes vs people not having diabetes\n",
    "df['diabetes'].value_counts(normalize=True)"
   ]
  },
  {
   "cell_type": "markdown",
   "id": "867f5d28",
   "metadata": {
    "id": "4z0opzyBBpve",
    "papermill": {
     "duration": 0.01028,
     "end_time": "2024-08-30T14:30:56.180393",
     "exception": false,
     "start_time": "2024-08-30T14:30:56.170113",
     "status": "completed"
    },
    "tags": []
   },
   "source": [
    "Here, we check the balance of our target variable—whether a person has diabetes or not. As the dataset is imbalanced, accuracy will not be the best metric to rely on (Ps. F1 score would be a great metric in this case), so it's important to check this early on."
   ]
  },
  {
   "cell_type": "code",
   "execution_count": 8,
   "id": "af16dd64",
   "metadata": {
    "execution": {
     "iopub.execute_input": "2024-08-30T14:30:56.202799Z",
     "iopub.status.busy": "2024-08-30T14:30:56.202332Z",
     "iopub.status.idle": "2024-08-30T14:30:56.229356Z",
     "shell.execute_reply": "2024-08-30T14:30:56.227989Z"
    },
    "id": "C-AqdSSGBsz0",
    "outputId": "9e279ac8-f55e-487a-b31e-a97bf1920165",
    "papermill": {
     "duration": 0.041259,
     "end_time": "2024-08-30T14:30:56.232073",
     "exception": false,
     "start_time": "2024-08-30T14:30:56.190814",
     "status": "completed"
    },
    "tags": []
   },
   "outputs": [
    {
     "data": {
      "text/html": [
       "<div>\n",
       "<style scoped>\n",
       "    .dataframe tbody tr th:only-of-type {\n",
       "        vertical-align: middle;\n",
       "    }\n",
       "\n",
       "    .dataframe tbody tr th {\n",
       "        vertical-align: top;\n",
       "    }\n",
       "\n",
       "    .dataframe thead th {\n",
       "        text-align: right;\n",
       "    }\n",
       "</style>\n",
       "<table border=\"1\" class=\"dataframe\">\n",
       "  <thead>\n",
       "    <tr style=\"text-align: right;\">\n",
       "      <th></th>\n",
       "      <th>year</th>\n",
       "      <th>gender</th>\n",
       "      <th>age</th>\n",
       "      <th>location</th>\n",
       "      <th>race:AfricanAmerican</th>\n",
       "      <th>race:Asian</th>\n",
       "      <th>race:Caucasian</th>\n",
       "      <th>race:Hispanic</th>\n",
       "      <th>race:Other</th>\n",
       "      <th>hypertension</th>\n",
       "      <th>heart_disease</th>\n",
       "      <th>smoking_history</th>\n",
       "      <th>bmi</th>\n",
       "      <th>hbA1c_level</th>\n",
       "      <th>blood_glucose_level</th>\n",
       "    </tr>\n",
       "  </thead>\n",
       "  <tbody>\n",
       "    <tr>\n",
       "      <th>0</th>\n",
       "      <td>2020</td>\n",
       "      <td>Female</td>\n",
       "      <td>32.0</td>\n",
       "      <td>Alabama</td>\n",
       "      <td>0</td>\n",
       "      <td>0</td>\n",
       "      <td>0</td>\n",
       "      <td>0</td>\n",
       "      <td>1</td>\n",
       "      <td>0</td>\n",
       "      <td>0</td>\n",
       "      <td>never</td>\n",
       "      <td>27.32</td>\n",
       "      <td>5.0</td>\n",
       "      <td>100</td>\n",
       "    </tr>\n",
       "    <tr>\n",
       "      <th>1</th>\n",
       "      <td>2015</td>\n",
       "      <td>Female</td>\n",
       "      <td>29.0</td>\n",
       "      <td>Alabama</td>\n",
       "      <td>0</td>\n",
       "      <td>1</td>\n",
       "      <td>0</td>\n",
       "      <td>0</td>\n",
       "      <td>0</td>\n",
       "      <td>0</td>\n",
       "      <td>0</td>\n",
       "      <td>never</td>\n",
       "      <td>19.95</td>\n",
       "      <td>5.0</td>\n",
       "      <td>90</td>\n",
       "    </tr>\n",
       "    <tr>\n",
       "      <th>2</th>\n",
       "      <td>2015</td>\n",
       "      <td>Male</td>\n",
       "      <td>18.0</td>\n",
       "      <td>Alabama</td>\n",
       "      <td>0</td>\n",
       "      <td>0</td>\n",
       "      <td>0</td>\n",
       "      <td>0</td>\n",
       "      <td>1</td>\n",
       "      <td>0</td>\n",
       "      <td>0</td>\n",
       "      <td>never</td>\n",
       "      <td>23.76</td>\n",
       "      <td>4.8</td>\n",
       "      <td>160</td>\n",
       "    </tr>\n",
       "    <tr>\n",
       "      <th>3</th>\n",
       "      <td>2015</td>\n",
       "      <td>Male</td>\n",
       "      <td>41.0</td>\n",
       "      <td>Alabama</td>\n",
       "      <td>0</td>\n",
       "      <td>0</td>\n",
       "      <td>1</td>\n",
       "      <td>0</td>\n",
       "      <td>0</td>\n",
       "      <td>0</td>\n",
       "      <td>0</td>\n",
       "      <td>never</td>\n",
       "      <td>27.32</td>\n",
       "      <td>4.0</td>\n",
       "      <td>159</td>\n",
       "    </tr>\n",
       "    <tr>\n",
       "      <th>4</th>\n",
       "      <td>2016</td>\n",
       "      <td>Female</td>\n",
       "      <td>52.0</td>\n",
       "      <td>Alabama</td>\n",
       "      <td>1</td>\n",
       "      <td>0</td>\n",
       "      <td>0</td>\n",
       "      <td>0</td>\n",
       "      <td>0</td>\n",
       "      <td>0</td>\n",
       "      <td>0</td>\n",
       "      <td>never</td>\n",
       "      <td>23.75</td>\n",
       "      <td>6.5</td>\n",
       "      <td>90</td>\n",
       "    </tr>\n",
       "  </tbody>\n",
       "</table>\n",
       "</div>"
      ],
      "text/plain": [
       "   year  gender   age location  race:AfricanAmerican  race:Asian  \\\n",
       "0  2020  Female  32.0  Alabama                     0           0   \n",
       "1  2015  Female  29.0  Alabama                     0           1   \n",
       "2  2015    Male  18.0  Alabama                     0           0   \n",
       "3  2015    Male  41.0  Alabama                     0           0   \n",
       "4  2016  Female  52.0  Alabama                     1           0   \n",
       "\n",
       "   race:Caucasian  race:Hispanic  race:Other  hypertension  heart_disease  \\\n",
       "0               0              0           1             0              0   \n",
       "1               0              0           0             0              0   \n",
       "2               0              0           1             0              0   \n",
       "3               1              0           0             0              0   \n",
       "4               0              0           0             0              0   \n",
       "\n",
       "  smoking_history    bmi  hbA1c_level  blood_glucose_level  \n",
       "0           never  27.32          5.0                  100  \n",
       "1           never  19.95          5.0                   90  \n",
       "2           never  23.76          4.8                  160  \n",
       "3           never  27.32          4.0                  159  \n",
       "4           never  23.75          6.5                   90  "
      ]
     },
     "execution_count": 8,
     "metadata": {},
     "output_type": "execute_result"
    }
   ],
   "source": [
    "# Splitting X and y. We're predicting if a person has diabetes or not based on independent features.\n",
    "df.columns\n",
    "X=df.drop('diabetes', axis=1)\n",
    "y=df['diabetes']\n",
    "X.head()"
   ]
  },
  {
   "cell_type": "code",
   "execution_count": 9,
   "id": "ef5a7a1b",
   "metadata": {
    "execution": {
     "iopub.execute_input": "2024-08-30T14:30:56.255231Z",
     "iopub.status.busy": "2024-08-30T14:30:56.254791Z",
     "iopub.status.idle": "2024-08-30T14:30:56.263058Z",
     "shell.execute_reply": "2024-08-30T14:30:56.261908Z"
    },
    "id": "bEC1cwM2CUjS",
    "outputId": "5a517e84-2a55-4138-92d9-7ad0a465f1fb",
    "papermill": {
     "duration": 0.022501,
     "end_time": "2024-08-30T14:30:56.265445",
     "exception": false,
     "start_time": "2024-08-30T14:30:56.242944",
     "status": "completed"
    },
    "tags": []
   },
   "outputs": [
    {
     "data": {
      "text/plain": [
       "0    0\n",
       "1    0\n",
       "2    0\n",
       "3    0\n",
       "4    0\n",
       "Name: diabetes, dtype: int64"
      ]
     },
     "execution_count": 9,
     "metadata": {},
     "output_type": "execute_result"
    }
   ],
   "source": [
    "y.head()"
   ]
  },
  {
   "cell_type": "markdown",
   "id": "6eea739a",
   "metadata": {
    "papermill": {
     "duration": 0.010499,
     "end_time": "2024-08-30T14:30:56.286510",
     "exception": false,
     "start_time": "2024-08-30T14:30:56.276011",
     "status": "completed"
    },
    "tags": []
   },
   "source": [
    "Before doing any feature engineering, we split the data into training and test sets (not allowing any data leakage). This way, we can assess our models on unseen data, ensuring they generalize well. We use 10% of the data as our test set considering 10k rows would be sufficient to test our model."
   ]
  },
  {
   "cell_type": "code",
   "execution_count": 10,
   "id": "4f2546c3",
   "metadata": {
    "execution": {
     "iopub.execute_input": "2024-08-30T14:30:56.310747Z",
     "iopub.status.busy": "2024-08-30T14:30:56.310276Z",
     "iopub.status.idle": "2024-08-30T14:30:56.396000Z",
     "shell.execute_reply": "2024-08-30T14:30:56.394818Z"
    },
    "id": "yFT7sPZdDPYR",
    "outputId": "1dcbb8ea-f0c9-4821-f1c0-c0b443d4f7e5",
    "papermill": {
     "duration": 0.101037,
     "end_time": "2024-08-30T14:30:56.399046",
     "exception": false,
     "start_time": "2024-08-30T14:30:56.298009",
     "status": "completed"
    },
    "tags": []
   },
   "outputs": [
    {
     "name": "stdout",
     "output_type": "stream",
     "text": [
      "<class 'pandas.core.frame.DataFrame'>\n",
      "Index: 90000 entries, 91768 to 98642\n",
      "Data columns (total 15 columns):\n",
      " #   Column                Non-Null Count  Dtype  \n",
      "---  ------                --------------  -----  \n",
      " 0   year                  90000 non-null  int64  \n",
      " 1   gender                90000 non-null  object \n",
      " 2   age                   90000 non-null  float64\n",
      " 3   location              90000 non-null  object \n",
      " 4   race:AfricanAmerican  90000 non-null  int64  \n",
      " 5   race:Asian            90000 non-null  int64  \n",
      " 6   race:Caucasian        90000 non-null  int64  \n",
      " 7   race:Hispanic         90000 non-null  int64  \n",
      " 8   race:Other            90000 non-null  int64  \n",
      " 9   hypertension          90000 non-null  int64  \n",
      " 10  heart_disease         90000 non-null  int64  \n",
      " 11  smoking_history       90000 non-null  object \n",
      " 12  bmi                   90000 non-null  float64\n",
      " 13  hbA1c_level           90000 non-null  float64\n",
      " 14  blood_glucose_level   90000 non-null  int64  \n",
      "dtypes: float64(3), int64(9), object(3)\n",
      "memory usage: 11.0+ MB\n",
      "<class 'pandas.core.frame.DataFrame'>\n",
      "Index: 10000 entries, 72031 to 47765\n",
      "Data columns (total 15 columns):\n",
      " #   Column                Non-Null Count  Dtype  \n",
      "---  ------                --------------  -----  \n",
      " 0   year                  10000 non-null  int64  \n",
      " 1   gender                10000 non-null  object \n",
      " 2   age                   10000 non-null  float64\n",
      " 3   location              10000 non-null  object \n",
      " 4   race:AfricanAmerican  10000 non-null  int64  \n",
      " 5   race:Asian            10000 non-null  int64  \n",
      " 6   race:Caucasian        10000 non-null  int64  \n",
      " 7   race:Hispanic         10000 non-null  int64  \n",
      " 8   race:Other            10000 non-null  int64  \n",
      " 9   hypertension          10000 non-null  int64  \n",
      " 10  heart_disease         10000 non-null  int64  \n",
      " 11  smoking_history       10000 non-null  object \n",
      " 12  bmi                   10000 non-null  float64\n",
      " 13  hbA1c_level           10000 non-null  float64\n",
      " 14  blood_glucose_level   10000 non-null  int64  \n",
      "dtypes: float64(3), int64(9), object(3)\n",
      "memory usage: 1.2+ MB\n",
      "None None\n"
     ]
    }
   ],
   "source": [
    "# Splitting the data - Train Set and Test Set before feature engineering\n",
    "from sklearn.model_selection import train_test_split\n",
    "X_train, X_test, y_train, y_test = train_test_split(X,y, test_size=.1, random_state=13)\n",
    "print(X_train.info(), X_test.info())"
   ]
  },
  {
   "cell_type": "code",
   "execution_count": 11,
   "id": "9649ea8e",
   "metadata": {
    "execution": {
     "iopub.execute_input": "2024-08-30T14:30:56.424169Z",
     "iopub.status.busy": "2024-08-30T14:30:56.422877Z",
     "iopub.status.idle": "2024-08-30T14:30:56.431302Z",
     "shell.execute_reply": "2024-08-30T14:30:56.430139Z"
    },
    "id": "PSjTy8vpFDqL",
    "outputId": "d82589b8-28b0-40c8-a52f-8fa7c214480b",
    "papermill": {
     "duration": 0.023157,
     "end_time": "2024-08-30T14:30:56.433606",
     "exception": false,
     "start_time": "2024-08-30T14:30:56.410449",
     "status": "completed"
    },
    "tags": []
   },
   "outputs": [
    {
     "data": {
      "text/plain": [
       "Index(['year', 'gender', 'age', 'location', 'race:AfricanAmerican',\n",
       "       'race:Asian', 'race:Caucasian', 'race:Hispanic', 'race:Other',\n",
       "       'hypertension', 'heart_disease', 'smoking_history', 'bmi',\n",
       "       'hbA1c_level', 'blood_glucose_level', 'diabetes'],\n",
       "      dtype='object')"
      ]
     },
     "execution_count": 11,
     "metadata": {},
     "output_type": "execute_result"
    }
   ],
   "source": [
    "df.columns"
   ]
  },
  {
   "cell_type": "code",
   "execution_count": 12,
   "id": "b8479031",
   "metadata": {
    "execution": {
     "iopub.execute_input": "2024-08-30T14:30:56.458455Z",
     "iopub.status.busy": "2024-08-30T14:30:56.457636Z",
     "iopub.status.idle": "2024-08-30T14:30:56.462973Z",
     "shell.execute_reply": "2024-08-30T14:30:56.461810Z"
    },
    "id": "x35IjmHQZx-Y",
    "papermill": {
     "duration": 0.020794,
     "end_time": "2024-08-30T14:30:56.465601",
     "exception": false,
     "start_time": "2024-08-30T14:30:56.444807",
     "status": "completed"
    },
    "tags": []
   },
   "outputs": [],
   "source": [
    "import warnings\n",
    "warnings.filterwarnings('ignore')"
   ]
  },
  {
   "cell_type": "markdown",
   "id": "79fd0eae",
   "metadata": {
    "papermill": {
     "duration": 0.010727,
     "end_time": "2024-08-30T14:30:56.487481",
     "exception": false,
     "start_time": "2024-08-30T14:30:56.476754",
     "status": "completed"
    },
    "tags": []
   },
   "source": [
    "For preprocessing, we scale the numerical features and apply one-hot encoding to the categorical ones. Scaling helps ensure that all features contribute equally to the model, while one-hot encoding is used because there's no inherent order in the categories (OHE increases the complexity, a thing to note)."
   ]
  },
  {
   "cell_type": "code",
   "execution_count": 13,
   "id": "8beeda97",
   "metadata": {
    "execution": {
     "iopub.execute_input": "2024-08-30T14:30:56.512931Z",
     "iopub.status.busy": "2024-08-30T14:30:56.512431Z",
     "iopub.status.idle": "2024-08-30T14:30:56.807063Z",
     "shell.execute_reply": "2024-08-30T14:30:56.805516Z"
    },
    "id": "iZ6D9h2jCXX5",
    "papermill": {
     "duration": 0.310193,
     "end_time": "2024-08-30T14:30:56.809940",
     "exception": false,
     "start_time": "2024-08-30T14:30:56.499747",
     "status": "completed"
    },
    "tags": []
   },
   "outputs": [],
   "source": [
    "# OneHotEncoding categorical features, Scaling numeric features\n",
    "# Using one hot encoding as there's no inherent order in the categories\n",
    "from sklearn.preprocessing import StandardScaler, LabelEncoder, OneHotEncoder\n",
    "from sklearn.compose import ColumnTransformer\n",
    "columntransformer = ColumnTransformer([\n",
    "        ('scale', StandardScaler(), ['year', 'age', 'race:AfricanAmerican',\n",
    "                                     'race:Asian', 'race:Caucasian', 'race:Hispanic', 'race:Other',\n",
    "                                     'hypertension', 'heart_disease', 'bmi',\n",
    "                                     'hbA1c_level', 'blood_glucose_level']),\n",
    "        ('ohe', OneHotEncoder(drop='first'), ['gender', 'smoking_history', 'location'])\n",
    "    ]\n",
    ")\n",
    "\n",
    "# Apply the transformer to your training data\n",
    "X_train_transformed = (columntransformer.fit_transform(X_train))\n",
    "X_test_transformed = (columntransformer.transform(X_test))\n"
   ]
  },
  {
   "cell_type": "code",
   "execution_count": 14,
   "id": "4d361501",
   "metadata": {
    "execution": {
     "iopub.execute_input": "2024-08-30T14:30:56.834549Z",
     "iopub.status.busy": "2024-08-30T14:30:56.834082Z",
     "iopub.status.idle": "2024-08-30T14:30:56.928983Z",
     "shell.execute_reply": "2024-08-30T14:30:56.927517Z"
    },
    "id": "o6jYmXQ4MRUv",
    "papermill": {
     "duration": 0.110761,
     "end_time": "2024-08-30T14:30:56.931974",
     "exception": false,
     "start_time": "2024-08-30T14:30:56.821213",
     "status": "completed"
    },
    "tags": []
   },
   "outputs": [],
   "source": [
    "# Converting the transformed matrix into a dataframe to improve readability\n",
    "newcolnames=columntransformer.get_feature_names_out()\n",
    "X_train_transformed=pd.DataFrame(X_train_transformed.toarray(), columns=newcolnames)\n",
    "X_test_transformed=pd.DataFrame(X_test_transformed.toarray(), columns=newcolnames)"
   ]
  },
  {
   "cell_type": "code",
   "execution_count": 15,
   "id": "7c9fe761",
   "metadata": {
    "execution": {
     "iopub.execute_input": "2024-08-30T14:30:56.958403Z",
     "iopub.status.busy": "2024-08-30T14:30:56.957938Z",
     "iopub.status.idle": "2024-08-30T14:30:56.976386Z",
     "shell.execute_reply": "2024-08-30T14:30:56.975225Z"
    },
    "id": "Iox8rAxcNpj-",
    "outputId": "0c4a07b1-1ed3-4e65-91ba-0ed4858ce52a",
    "papermill": {
     "duration": 0.037006,
     "end_time": "2024-08-30T14:30:56.980346",
     "exception": false,
     "start_time": "2024-08-30T14:30:56.943340",
     "status": "completed"
    },
    "tags": []
   },
   "outputs": [
    {
     "name": "stdout",
     "output_type": "stream",
     "text": [
      "<class 'pandas.core.frame.DataFrame'>\n",
      "RangeIndex: 10000 entries, 0 to 9999\n",
      "Data columns (total 73 columns):\n",
      " #   Column                              Non-Null Count  Dtype  \n",
      "---  ------                              --------------  -----  \n",
      " 0   scale__year                         10000 non-null  float64\n",
      " 1   scale__age                          10000 non-null  float64\n",
      " 2   scale__race:AfricanAmerican         10000 non-null  float64\n",
      " 3   scale__race:Asian                   10000 non-null  float64\n",
      " 4   scale__race:Caucasian               10000 non-null  float64\n",
      " 5   scale__race:Hispanic                10000 non-null  float64\n",
      " 6   scale__race:Other                   10000 non-null  float64\n",
      " 7   scale__hypertension                 10000 non-null  float64\n",
      " 8   scale__heart_disease                10000 non-null  float64\n",
      " 9   scale__bmi                          10000 non-null  float64\n",
      " 10  scale__hbA1c_level                  10000 non-null  float64\n",
      " 11  scale__blood_glucose_level          10000 non-null  float64\n",
      " 12  ohe__gender_Male                    10000 non-null  float64\n",
      " 13  ohe__gender_Other                   10000 non-null  float64\n",
      " 14  ohe__smoking_history_current        10000 non-null  float64\n",
      " 15  ohe__smoking_history_ever           10000 non-null  float64\n",
      " 16  ohe__smoking_history_former         10000 non-null  float64\n",
      " 17  ohe__smoking_history_never          10000 non-null  float64\n",
      " 18  ohe__smoking_history_not current    10000 non-null  float64\n",
      " 19  ohe__location_Alaska                10000 non-null  float64\n",
      " 20  ohe__location_Arizona               10000 non-null  float64\n",
      " 21  ohe__location_Arkansas              10000 non-null  float64\n",
      " 22  ohe__location_California            10000 non-null  float64\n",
      " 23  ohe__location_Colorado              10000 non-null  float64\n",
      " 24  ohe__location_Connecticut           10000 non-null  float64\n",
      " 25  ohe__location_Delaware              10000 non-null  float64\n",
      " 26  ohe__location_District of Columbia  10000 non-null  float64\n",
      " 27  ohe__location_Florida               10000 non-null  float64\n",
      " 28  ohe__location_Georgia               10000 non-null  float64\n",
      " 29  ohe__location_Guam                  10000 non-null  float64\n",
      " 30  ohe__location_Hawaii                10000 non-null  float64\n",
      " 31  ohe__location_Idaho                 10000 non-null  float64\n",
      " 32  ohe__location_Illinois              10000 non-null  float64\n",
      " 33  ohe__location_Indiana               10000 non-null  float64\n",
      " 34  ohe__location_Iowa                  10000 non-null  float64\n",
      " 35  ohe__location_Kansas                10000 non-null  float64\n",
      " 36  ohe__location_Kentucky              10000 non-null  float64\n",
      " 37  ohe__location_Louisiana             10000 non-null  float64\n",
      " 38  ohe__location_Maine                 10000 non-null  float64\n",
      " 39  ohe__location_Maryland              10000 non-null  float64\n",
      " 40  ohe__location_Massachusetts         10000 non-null  float64\n",
      " 41  ohe__location_Michigan              10000 non-null  float64\n",
      " 42  ohe__location_Minnesota             10000 non-null  float64\n",
      " 43  ohe__location_Mississippi           10000 non-null  float64\n",
      " 44  ohe__location_Missouri              10000 non-null  float64\n",
      " 45  ohe__location_Montana               10000 non-null  float64\n",
      " 46  ohe__location_Nebraska              10000 non-null  float64\n",
      " 47  ohe__location_Nevada                10000 non-null  float64\n",
      " 48  ohe__location_New Hampshire         10000 non-null  float64\n",
      " 49  ohe__location_New Jersey            10000 non-null  float64\n",
      " 50  ohe__location_New Mexico            10000 non-null  float64\n",
      " 51  ohe__location_New York              10000 non-null  float64\n",
      " 52  ohe__location_North Carolina        10000 non-null  float64\n",
      " 53  ohe__location_North Dakota          10000 non-null  float64\n",
      " 54  ohe__location_Ohio                  10000 non-null  float64\n",
      " 55  ohe__location_Oklahoma              10000 non-null  float64\n",
      " 56  ohe__location_Oregon                10000 non-null  float64\n",
      " 57  ohe__location_Pennsylvania          10000 non-null  float64\n",
      " 58  ohe__location_Puerto Rico           10000 non-null  float64\n",
      " 59  ohe__location_Rhode Island          10000 non-null  float64\n",
      " 60  ohe__location_South Carolina        10000 non-null  float64\n",
      " 61  ohe__location_South Dakota          10000 non-null  float64\n",
      " 62  ohe__location_Tennessee             10000 non-null  float64\n",
      " 63  ohe__location_Texas                 10000 non-null  float64\n",
      " 64  ohe__location_United States         10000 non-null  float64\n",
      " 65  ohe__location_Utah                  10000 non-null  float64\n",
      " 66  ohe__location_Vermont               10000 non-null  float64\n",
      " 67  ohe__location_Virgin Islands        10000 non-null  float64\n",
      " 68  ohe__location_Virginia              10000 non-null  float64\n",
      " 69  ohe__location_Washington            10000 non-null  float64\n",
      " 70  ohe__location_West Virginia         10000 non-null  float64\n",
      " 71  ohe__location_Wisconsin             10000 non-null  float64\n",
      " 72  ohe__location_Wyoming               10000 non-null  float64\n",
      "dtypes: float64(73)\n",
      "memory usage: 5.6 MB\n"
     ]
    }
   ],
   "source": [
    "X_test_transformed.info()"
   ]
  },
  {
   "cell_type": "markdown",
   "id": "7c2a10f1",
   "metadata": {
    "papermill": {
     "duration": 0.011223,
     "end_time": "2024-08-30T14:30:57.003643",
     "exception": false,
     "start_time": "2024-08-30T14:30:56.992420",
     "status": "completed"
    },
    "tags": []
   },
   "source": [
    "We try out several classification models to see which one performs best without any hyperparameter tuning. This gives us a baseline to compare against once we start fine-tuning the models. \n",
    "\n",
    "Hyperparameter tuning is done in the cells to follow! This is not the end."
   ]
  },
  {
   "cell_type": "code",
   "execution_count": 16,
   "id": "940b0d85",
   "metadata": {
    "execution": {
     "iopub.execute_input": "2024-08-30T14:30:57.029059Z",
     "iopub.status.busy": "2024-08-30T14:30:57.028563Z",
     "iopub.status.idle": "2024-08-30T14:35:08.511985Z",
     "shell.execute_reply": "2024-08-30T14:35:08.510651Z"
    },
    "id": "ym8i4Jd3H0FM",
    "outputId": "9a9193db-2a63-4e11-b2f5-a6775bdd6160",
    "papermill": {
     "duration": 251.498999,
     "end_time": "2024-08-30T14:35:08.514573",
     "exception": false,
     "start_time": "2024-08-30T14:30:57.015574",
     "status": "completed"
    },
    "tags": []
   },
   "outputs": [
    {
     "name": "stdout",
     "output_type": "stream",
     "text": [
      "Logistic Regression\n",
      "[[9105   61]\n",
      " [ 289  545]]\n",
      "              precision    recall  f1-score   support\n",
      "\n",
      "           0       0.97      0.99      0.98      9166\n",
      "           1       0.90      0.65      0.76       834\n",
      "\n",
      "    accuracy                           0.96     10000\n",
      "   macro avg       0.93      0.82      0.87     10000\n",
      "weighted avg       0.96      0.96      0.96     10000\n",
      "\n",
      "------------------------------\n",
      "SVC\n",
      "[[9148   18]\n",
      " [ 316  518]]\n",
      "              precision    recall  f1-score   support\n",
      "\n",
      "           0       0.97      1.00      0.98      9166\n",
      "           1       0.97      0.62      0.76       834\n",
      "\n",
      "    accuracy                           0.97     10000\n",
      "   macro avg       0.97      0.81      0.87     10000\n",
      "weighted avg       0.97      0.97      0.96     10000\n",
      "\n",
      "------------------------------\n",
      "Naive Bayes\n",
      "[[5235 3931]\n",
      " [  48  786]]\n",
      "              precision    recall  f1-score   support\n",
      "\n",
      "           0       0.99      0.57      0.72      9166\n",
      "           1       0.17      0.94      0.28       834\n",
      "\n",
      "    accuracy                           0.60     10000\n",
      "   macro avg       0.58      0.76      0.50     10000\n",
      "weighted avg       0.92      0.60      0.69     10000\n",
      "\n",
      "------------------------------\n",
      "KNN\n",
      "[[9104   62]\n",
      " [ 345  489]]\n",
      "              precision    recall  f1-score   support\n",
      "\n",
      "           0       0.96      0.99      0.98      9166\n",
      "           1       0.89      0.59      0.71       834\n",
      "\n",
      "    accuracy                           0.96     10000\n",
      "   macro avg       0.93      0.79      0.84     10000\n",
      "weighted avg       0.96      0.96      0.96     10000\n",
      "\n",
      "------------------------------\n",
      "Decision Tree\n",
      "[[8929  237]\n",
      " [ 202  632]]\n",
      "              precision    recall  f1-score   support\n",
      "\n",
      "           0       0.98      0.97      0.98      9166\n",
      "           1       0.73      0.76      0.74       834\n",
      "\n",
      "    accuracy                           0.96     10000\n",
      "   macro avg       0.85      0.87      0.86     10000\n",
      "weighted avg       0.96      0.96      0.96     10000\n",
      "\n",
      "------------------------------\n",
      "Random Forest\n",
      "[[9164    2]\n",
      " [ 241  593]]\n",
      "              precision    recall  f1-score   support\n",
      "\n",
      "           0       0.97      1.00      0.99      9166\n",
      "           1       1.00      0.71      0.83       834\n",
      "\n",
      "    accuracy                           0.98     10000\n",
      "   macro avg       0.99      0.86      0.91     10000\n",
      "weighted avg       0.98      0.98      0.97     10000\n",
      "\n",
      "------------------------------\n"
     ]
    }
   ],
   "source": [
    "# Trying out different models without any hyperparameter setting established\n",
    "models={\n",
    "    'Logistic Regression':LogisticRegression(max_iter=500),\n",
    "    'SVC':SVC(),\n",
    "    'Naive Bayes': GaussianNB(),\n",
    "    'KNN':KNeighborsClassifier(),\n",
    "    'Decision Tree':DecisionTreeClassifier(),\n",
    "    'Random Forest':RandomForestClassifier(),\n",
    "}\n",
    "\n",
    "for model_name, model in models.items():\n",
    "  print(model_name)\n",
    "  model.fit(X_train_transformed, y_train)\n",
    "  pred=model.predict(X_test_transformed)\n",
    "  print(confusion_matrix(y_test, pred))\n",
    "  print(classification_report(y_test, pred))\n",
    "  print('------------------------------')"
   ]
  },
  {
   "cell_type": "markdown",
   "id": "1f7318ad",
   "metadata": {
    "id": "zcCR-i2pQLm1",
    "papermill": {
     "duration": 0.012069,
     "end_time": "2024-08-30T14:35:08.539274",
     "exception": false,
     "start_time": "2024-08-30T14:35:08.527205",
     "status": "completed"
    },
    "tags": []
   },
   "source": [
    "Without hyperparameter tuning,\n",
    "* NaiveBayes gives result with lowest False Negative (Having diabetes but predicting as not having diabetes) but it also has highest false positives. Accuracy is the lowest.\n",
    "* KNN has low F1 score.\n"
   ]
  },
  {
   "cell_type": "markdown",
   "id": "07e4bb4d",
   "metadata": {
    "papermill": {
     "duration": 0.011994,
     "end_time": "2024-08-30T14:35:08.563492",
     "exception": false,
     "start_time": "2024-08-30T14:35:08.551498",
     "status": "completed"
    },
    "tags": []
   },
   "source": [
    "Now, we try out hyperparameter tuning for different algorithms to further improve the model. Note: We're using GridSearchCV here and our dataset is quite large with high dimension. So, this might take quite some time to run. I didn't play around with all the hyperparameters here considering the complexity but one can definitely aim to further improve the model."
   ]
  },
  {
   "cell_type": "code",
   "execution_count": 17,
   "id": "1a5c9ec0",
   "metadata": {
    "execution": {
     "iopub.execute_input": "2024-08-30T14:35:08.590137Z",
     "iopub.status.busy": "2024-08-30T14:35:08.589707Z",
     "iopub.status.idle": "2024-08-30T14:36:19.413321Z",
     "shell.execute_reply": "2024-08-30T14:36:19.402506Z"
    },
    "id": "uV8pOQIVOMlC",
    "outputId": "1c2e5aec-6042-4adb-b4c0-5575d5b4a5d5",
    "papermill": {
     "duration": 70.886444,
     "end_time": "2024-08-30T14:36:19.462402",
     "exception": false,
     "start_time": "2024-08-30T14:35:08.575958",
     "status": "completed"
    },
    "tags": []
   },
   "outputs": [
    {
     "name": "stdout",
     "output_type": "stream",
     "text": [
      "[[9104   62]\n",
      " [ 289  545]]\n",
      "              precision    recall  f1-score   support\n",
      "\n",
      "           0       0.97      0.99      0.98      9166\n",
      "           1       0.90      0.65      0.76       834\n",
      "\n",
      "    accuracy                           0.96     10000\n",
      "   macro avg       0.93      0.82      0.87     10000\n",
      "weighted avg       0.96      0.96      0.96     10000\n",
      "\n",
      "{'max_iter': 700, 'penalty': 'l1', 'random_state': 42, 'solver': 'liblinear'} 0.9596\n"
     ]
    }
   ],
   "source": [
    "# Logistic Regression with hyperparameter tuning\n",
    "from sklearn.linear_model import LogisticRegression\n",
    "from sklearn.model_selection import GridSearchCV\n",
    "param={\n",
    "    'penalty': ['l1', 'l2'],\n",
    "    'solver':['liblinear','saga'],\n",
    "    'max_iter':[700],\n",
    "    'random_state':[42]\n",
    "}\n",
    "lr=GridSearchCV(LogisticRegression(), param, cv=3)\n",
    "lr.fit(X_train_transformed, y_train)\n",
    "pred=lr.predict(X_test_transformed)\n",
    "print(confusion_matrix(y_test, pred))\n",
    "print(classification_report(y_test, pred))\n",
    "print(lr.best_params_, lr.best_score_)\n"
   ]
  },
  {
   "cell_type": "code",
   "execution_count": 18,
   "id": "1164e6b5",
   "metadata": {
    "execution": {
     "iopub.execute_input": "2024-08-30T14:36:19.508434Z",
     "iopub.status.busy": "2024-08-30T14:36:19.507977Z",
     "iopub.status.idle": "2024-08-30T14:36:21.012781Z",
     "shell.execute_reply": "2024-08-30T14:36:21.011498Z"
    },
    "id": "Vw1J5RYHeKlM",
    "outputId": "e2fdf687-1274-49a5-e881-38562fdcec0e",
    "papermill": {
     "duration": 1.532927,
     "end_time": "2024-08-30T14:36:21.015566",
     "exception": false,
     "start_time": "2024-08-30T14:36:19.482639",
     "status": "completed"
    },
    "tags": []
   },
   "outputs": [
    {
     "name": "stdout",
     "output_type": "stream",
     "text": [
      "[[7938 1228]\n",
      " [ 202  632]]\n",
      "              precision    recall  f1-score   support\n",
      "\n",
      "           0       0.98      0.87      0.92      9166\n",
      "           1       0.34      0.76      0.47       834\n",
      "\n",
      "    accuracy                           0.86     10000\n",
      "   macro avg       0.66      0.81      0.69     10000\n",
      "weighted avg       0.92      0.86      0.88     10000\n",
      "\n",
      "{'var_smoothing': 1e-05} 0.8383111111111111\n"
     ]
    }
   ],
   "source": [
    "# Hyperparameter tuning for Naive Bayes\n",
    "param={\n",
    "'var_smoothing': [1e-9, 1e-8, 1e-7, 1e-6, 1e-5]\n",
    "}\n",
    "nb=GridSearchCV(GaussianNB(), param, cv=2)\n",
    "nb.fit(X_train_transformed, y_train)\n",
    "pred=nb.predict(X_test_transformed)\n",
    "print(confusion_matrix(y_test, pred))\n",
    "print(classification_report(y_test, pred))\n",
    "print(nb.best_params_, nb.best_score_)"
   ]
  },
  {
   "cell_type": "code",
   "execution_count": 19,
   "id": "92e8024e",
   "metadata": {
    "execution": {
     "iopub.execute_input": "2024-08-30T14:36:21.042633Z",
     "iopub.status.busy": "2024-08-30T14:36:21.042200Z",
     "iopub.status.idle": "2024-08-30T15:30:58.228050Z",
     "shell.execute_reply": "2024-08-30T15:30:58.226799Z"
    },
    "id": "SJm4dgvkeNMv",
    "papermill": {
     "duration": 3277.214829,
     "end_time": "2024-08-30T15:30:58.243046",
     "exception": false,
     "start_time": "2024-08-30T14:36:21.028217",
     "status": "completed"
    },
    "tags": []
   },
   "outputs": [
    {
     "name": "stdout",
     "output_type": "stream",
     "text": [
      "[[9139   27]\n",
      " [ 368  466]]\n",
      "              precision    recall  f1-score   support\n",
      "\n",
      "           0       0.96      1.00      0.98      9166\n",
      "           1       0.95      0.56      0.70       834\n",
      "\n",
      "    accuracy                           0.96     10000\n",
      "   macro avg       0.95      0.78      0.84     10000\n",
      "weighted avg       0.96      0.96      0.96     10000\n",
      "\n",
      "{'metric': 'euclidean', 'n_neighbors': 11, 'weights': 'uniform'} 0.9560777777777778\n"
     ]
    }
   ],
   "source": [
    "# Hyperparameter tuning for KNN\n",
    "param={\n",
    "'n_neighbors': [3, 5, 7, 9, 11, 15, 20],\n",
    "'weights': ['uniform', 'distance'],\n",
    "'metric': ['euclidean', 'manhattan', 'minkowski']\n",
    "}\n",
    "knn=GridSearchCV(KNeighborsClassifier(), param, cv=2)\n",
    "knn.fit(X_train_transformed, y_train)\n",
    "pred=knn.predict(X_test_transformed)\n",
    "print(confusion_matrix(y_test, pred))\n",
    "print(classification_report(y_test, pred))\n",
    "print(knn.best_params_, knn.best_score_)"
   ]
  },
  {
   "cell_type": "code",
   "execution_count": 20,
   "id": "720b288f",
   "metadata": {
    "execution": {
     "iopub.execute_input": "2024-08-30T15:30:58.270525Z",
     "iopub.status.busy": "2024-08-30T15:30:58.270088Z",
     "iopub.status.idle": "2024-08-30T15:54:41.174802Z",
     "shell.execute_reply": "2024-08-30T15:54:41.173406Z"
    },
    "id": "PR3Jz2ugSKVa",
    "papermill": {
     "duration": 1422.933375,
     "end_time": "2024-08-30T15:54:41.189099",
     "exception": false,
     "start_time": "2024-08-30T15:30:58.255724",
     "status": "completed"
    },
    "tags": []
   },
   "outputs": [
    {
     "name": "stdout",
     "output_type": "stream",
     "text": [
      "[[9128   38]\n",
      " [ 278  556]]\n",
      "              precision    recall  f1-score   support\n",
      "\n",
      "           0       0.97      1.00      0.98      9166\n",
      "           1       0.94      0.67      0.78       834\n",
      "\n",
      "    accuracy                           0.97     10000\n",
      "   macro avg       0.95      0.83      0.88     10000\n",
      "weighted avg       0.97      0.97      0.97     10000\n",
      "\n",
      "{'C': 10, 'kernel': 'rbf'} 0.9621888888888889\n"
     ]
    }
   ],
   "source": [
    "# Hyperparameter tuning for SVC\n",
    "param={\n",
    "    'kernel': ['linear', 'rbf'],\n",
    "    'C': [0.1, 1, 10]\n",
    "}\n",
    "svc=GridSearchCV(SVC(), param, cv=2)\n",
    "svc.fit(X_train_transformed, y_train)\n",
    "pred=svc.predict(X_test_transformed)\n",
    "print(confusion_matrix(y_test, pred))\n",
    "print(classification_report(y_test, pred))\n",
    "print(svc.best_params_, svc.best_score_)\n"
   ]
  },
  {
   "cell_type": "code",
   "execution_count": 21,
   "id": "337a92e4",
   "metadata": {
    "execution": {
     "iopub.execute_input": "2024-08-30T15:54:41.217636Z",
     "iopub.status.busy": "2024-08-30T15:54:41.216200Z",
     "iopub.status.idle": "2024-08-30T16:07:33.029773Z",
     "shell.execute_reply": "2024-08-30T16:07:33.028599Z"
    },
    "id": "iBOnc3oXTdTY",
    "papermill": {
     "duration": 771.842952,
     "end_time": "2024-08-30T16:07:33.044879",
     "exception": false,
     "start_time": "2024-08-30T15:54:41.201927",
     "status": "completed"
    },
    "tags": []
   },
   "outputs": [
    {
     "name": "stdout",
     "output_type": "stream",
     "text": [
      "[[9164    2]\n",
      " [ 240  594]]\n",
      "              precision    recall  f1-score   support\n",
      "\n",
      "           0       0.97      1.00      0.99      9166\n",
      "           1       1.00      0.71      0.83       834\n",
      "\n",
      "    accuracy                           0.98     10000\n",
      "   macro avg       0.99      0.86      0.91     10000\n",
      "weighted avg       0.98      0.98      0.97     10000\n",
      "\n",
      "{'max_depth': 30, 'max_features': 'auto', 'n_estimators': 300, 'random_state': 42} 0.9715444444444444\n"
     ]
    }
   ],
   "source": [
    "# Hyperparameter tuning for RandomForest\n",
    "param={\n",
    "'n_estimators':[100, 300, 500],\n",
    "'max_depth':[20, 30,40],\n",
    "'max_features': ['auto', 'sqrt'],\n",
    "'random_state':[42]\n",
    "}\n",
    "rf=GridSearchCV(RandomForestClassifier(), param, cv=2)\n",
    "rf.fit(X_train_transformed, y_train)\n",
    "pred=rf.predict(X_test_transformed)\n",
    "print(confusion_matrix(y_test, pred))\n",
    "print(classification_report(y_test, pred))\n",
    "print(rf.best_params_, rf.best_score_)"
   ]
  },
  {
   "cell_type": "markdown",
   "id": "2d2c0e79",
   "metadata": {
    "papermill": {
     "duration": 0.013306,
     "end_time": "2024-08-30T16:07:33.071358",
     "exception": false,
     "start_time": "2024-08-30T16:07:33.058052",
     "status": "completed"
    },
    "tags": []
   },
   "source": [
    "The Random Forest model delivered the best results, more so interms of recall and F1 score - which acts as an important metric incase of an imbalanced dataset. This means that the model is not only good at identifying true positive cases (i.e., correctly predicting individuals with diabetes) but also maintains a good balance between precision and recall. \n",
    "\n",
    "Boosting algorithms might further improve the model! A thing to try next.."
   ]
  }
 ],
 "metadata": {
  "colab": {
   "provenance": []
  },
  "kaggle": {
   "accelerator": "none",
   "dataSources": [
    {
     "datasetId": 5420190,
     "sourceId": 8998172,
     "sourceType": "datasetVersion"
    }
   ],
   "dockerImageVersionId": 30761,
   "isGpuEnabled": false,
   "isInternetEnabled": false,
   "language": "python",
   "sourceType": "notebook"
  },
  "kernelspec": {
   "display_name": "Python 3",
   "language": "python",
   "name": "python3"
  },
  "language_info": {
   "codemirror_mode": {
    "name": "ipython",
    "version": 3
   },
   "file_extension": ".py",
   "mimetype": "text/x-python",
   "name": "python",
   "nbconvert_exporter": "python",
   "pygments_lexer": "ipython3",
   "version": "3.10.14"
  },
  "papermill": {
   "default_parameters": {},
   "duration": 5804.155243,
   "end_time": "2024-08-30T16:07:33.807632",
   "environment_variables": {},
   "exception": null,
   "input_path": "__notebook__.ipynb",
   "output_path": "__notebook__.ipynb",
   "parameters": {},
   "start_time": "2024-08-30T14:30:49.652389",
   "version": "2.6.0"
  }
 },
 "nbformat": 4,
 "nbformat_minor": 5
}
